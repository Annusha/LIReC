{
 "cells": [
  {
   "cell_type": "code",
   "execution_count": 1,
   "metadata": {
    "pycharm": {
     "is_executing": false
    }
   },
   "outputs": [],
   "source": [
    "text = 0\n",
    "text_count = 0\n",
    "visual = 0\n",
    "visual_count = 0\n",
    "mix = 0\n",
    "mix_count = 0"
   ]
  },
  {
   "cell_type": "code",
   "execution_count": 2,
   "metadata": {
    "pycharm": {
     "is_executing": false
    }
   },
   "outputs": [],
   "source": [
    "path = '../all_actions.txt'\n",
    "all_lines = 0\n",
    "with open(path, 'r') as f:\n",
    "    for line in f:\n",
    "        all_lines += 1\n",
    "        line = line.split()\n",
    "        line, count = line[-1], int(line[-2])\n",
    "        if line == 'v':\n",
    "            visual += 1\n",
    "            visual_count += count\n",
    "        if line == 't':\n",
    "            text += 1\n",
    "            text_count += count\n",
    "        if line == 'm':\n",
    "            mix += 1\n",
    "            mix_count += count\n",
    "\n",
    "# assert (mix + text + visual) == all_lines"
   ]
  },
  {
   "cell_type": "code",
   "execution_count": 5,
   "metadata": {
    "pycharm": {
     "is_executing": false
    }
   },
   "outputs": [
    {
     "name": "stdout",
     "text": [
      "text: 150 | 10840\nvisual: 133 | 5348\nmixture: 46 | 2881\n"
     ],
     "output_type": "stream"
    }
   ],
   "source": [
    "print('text: %d | %d' % (text, text_count))\n",
    "print('visual: %d | %d' % (visual, visual_count))\n",
    "print('mixture: %d | %d' % (mix, mix_count))"
   ]
  },
  {
   "cell_type": "code",
   "execution_count": null,
   "metadata": {},
   "outputs": [],
   "source": []
  }
 ],
 "metadata": {
  "kernelspec": {
   "display_name": "Python 3",
   "language": "python",
   "name": "python3"
  },
  "language_info": {
   "codemirror_mode": {
    "name": "ipython",
    "version": 3
   },
   "file_extension": ".py",
   "mimetype": "text/x-python",
   "name": "python",
   "nbconvert_exporter": "python",
   "pygments_lexer": "ipython3",
   "version": "3.7.3"
  },
  "pycharm": {
   "stem_cell": {
    "cell_type": "raw",
    "source": [],
    "metadata": {
     "collapsed": false
    }
   }
  }
 },
 "nbformat": 4,
 "nbformat_minor": 2
}