{
 "cells": [
  {
   "cell_type": "code",
   "execution_count": 1,
   "metadata": {},
   "outputs": [
    {
     "name": "stderr",
     "output_type": "stream",
     "text": [
      "/sequoia/data1/mtapaswi/anaconda2/envs/mg/lib/python3.6/importlib/_bootstrap.py:219: RuntimeWarning: numpy.ufunc size changed, may indicate binary incompatibility. Expected 192 from C header, got 216 from PyObject\n",
      "  return f(*args, **kwds)\n"
     ]
    }
   ],
   "source": [
    "import pickle\n",
    "import collections\n",
    "import matplotlib.pyplot as plt\n",
    "\n",
    "# Local imports\n",
    "import GraphClasses\n",
    "\n",
    "%load_ext autoreload\n",
    "%autoreload 2\n"
   ]
  },
  {
   "cell_type": "code",
   "execution_count": 3,
   "metadata": {},
   "outputs": [],
   "source": [
    "# Load all annotations\n",
    "with open('2017-11-02-51-7637_py3.pkl', 'rb') as fid:\n",
    "    all_mg = pickle.load(fid, encoding='latin1')"
   ]
  },
  {
   "cell_type": "code",
   "execution_count": 4,
   "metadata": {},
   "outputs": [],
   "source": [
    "mg = all_mg['tt0109830']\n",
    "cg = mg.clip_graphs[4]"
   ]
  },
  {
   "cell_type": "code",
   "execution_count": 8,
   "metadata": {},
   "outputs": [
    {
     "data": {
      "image/png": "[encoded data removed]",
      "text/plain": [
       "<matplotlib.figure.Figure at 0x7f9f12a29f28>"
      ]
     },
     "metadata": {
      "needs_background": "light"
     },
     "output_type": "display_data"
    }
   ],
   "source": [
    "plt.figure(figsize=(8, 5))\n",
    "cg.visualize_graph()"
   ]
  },
  {
   "cell_type": "code",
   "execution_count": 9,
   "metadata": {},
   "outputs": [
    {
     "name": "stdout",
     "output_type": "stream",
     "text": [
      "watches tv tt0286106 30 [31]\n",
      "watches tv tt2267998 172 [173]\n",
      "watches tv tt2267998 173 [174]\n",
      "watches tv tt0478311 63 [64]\n",
      "watches tv tt0478311 87 [88]\n"
     ]
    }
   ],
   "source": [
    "check_strings = ['watches tv']\n",
    "all_int_labels = []\n",
    "all_rel_labels = []\n",
    "\n",
    "for imdb_key, mg in all_mg.items():\n",
    "    for sid, cg in mg.clip_graphs.items():\n",
    "        int_labels = cg.find_all_triplets('interaction', collapse_bidirectional=True, return_names=True)\n",
    "        for c1, intr, c2 in int_labels:\n",
    "            all_int_labels.append(intr)\n",
    "#             for cstr in check_strings:\n",
    "#                 if intr == cstr:\n",
    "#                     print(intr, imdb_key, sid, cg.video['scene'])\n",
    "\n",
    "        rel_labels = cg.find_all_triplets('relationship', collapse_bidirectional=True, return_names=True)\n",
    "        for c1, reln, c2 in rel_labels:\n",
    "            all_rel_labels.append(reln)\n",
    "            "
   ]
  },
  {
   "cell_type": "code",
   "execution_count": 16,
   "metadata": {},
   "outputs": [
    {
     "data": {
      "text/plain": [
       "69"
      ]
     },
     "execution_count": 16,
     "metadata": {},
     "output_type": "execute_result"
    }
   ],
   "source": [
    "all_rel_pairs = sorted(collections.Counter(all_rel_labels).items(), key=lambda kv:kv[1], reverse=True)\n",
    "sum([1 for word, v in all_rel_pairs if v >= 5])"
   ]
  },
  {
   "cell_type": "code",
   "execution_count": 18,
   "metadata": {},
   "outputs": [
    {
     "data": {
      "text/plain": [
       "[{'importance': -1, 'name': 'Don Birnam', 'chid': 'ch0019927'},\n",
       " {'importance': -1, 'name': 'Helen St. James', 'chid': 'ch0019926'},\n",
       " {'importance': -1, 'name': 'Wick Birnam', 'chid': 'ch0019929'},\n",
       " {'importance': -1, 'name': 'Nat', 'chid': 'ch0450317'},\n",
       " {'importance': -1, 'name': 'Gloria', 'chid': 'ch0019928'},\n",
       " {'importance': -1, 'name': \"'Bim' Nolan\", 'chid': 'ch0500676'},\n",
       " {'importance': -1, 'name': 'Mrs. Deveridge', 'chid': 'tt0037884:01'},\n",
       " {'importance': -1, 'name': 'Mrs. Foley', 'chid': 'tt0037884:02'},\n",
       " {'importance': -1, 'name': 'Mrs. St. James', 'chid': 'tt0037884:03'},\n",
       " {'importance': -1,\n",
       "  'name': 'Opera Cloak Room Attendant',\n",
       "  'chid': 'tt0037884:04'},\n",
       " {'importance': -1, 'name': 'Mr. St. James', 'chid': 'tt0037884:05'}]"
      ]
     },
     "execution_count": 18,
     "metadata": {},
     "output_type": "execute_result"
    }
   ],
   "source": [
    "mg.castlist"
   ]
  },
  {
   "cell_type": "code",
   "execution_count": 17,
   "metadata": {},
   "outputs": [
    {
     "data": {
      "text/plain": [
       "[('stranger', 2705),\n",
       " ('friend', 2510),\n",
       " ('colleague', 1132),\n",
       " ('parent', 971),\n",
       " ('lover', 952),\n",
       " ('boss', 644),\n",
       " ('spouse', 602),\n",
       " ('sibling', 578),\n",
       " ('knows by reputation', 481),\n",
       " ('collaborator', 367),\n",
       " ('acquaintance', 364),\n",
       " ('enemy', 323),\n",
       " ('customer', 300),\n",
       " ('child', 290),\n",
       " ('best friend', 179),\n",
       " ('employed by', 162),\n",
       " ('employer of', 141),\n",
       " ('engaged', 128),\n",
       " ('would like to know', 119),\n",
       " ('neighbor', 108),\n",
       " ('antagonist', 96),\n",
       " ('aunt/uncle', 91),\n",
       " ('patient', 85),\n",
       " ('teacher', 84),\n",
       " ('mentor', 78),\n",
       " ('competitor', 77),\n",
       " ('owner', 66),\n",
       " ('cousin', 61),\n",
       " ('sister/brother-in-law', 59),\n",
       " ('doctor', 55),\n",
       " ('business partner', 53),\n",
       " ('operative system', 48),\n",
       " ('roommate', 47),\n",
       " ('classmate', 36),\n",
       " ('mother-in-law', 36),\n",
       " ('ex-lover', 35),\n",
       " ('grandparent', 33),\n",
       " ('aunt', 33),\n",
       " ('fiancee', 28),\n",
       " ('niece/nephew', 28),\n",
       " ('uncle', 25),\n",
       " ('foster-son', 21),\n",
       " ('babysitter', 21),\n",
       " ('divorced', 19),\n",
       " ('nanny', 18),\n",
       " ('superior', 16),\n",
       " ('girlfriend', 16),\n",
       " ('step-mother', 14),\n",
       " ('robber', 14),\n",
       " ('ex-spouse', 13),\n",
       " ('ex-neighbor', 12),\n",
       " ('grandchild', 11),\n",
       " ('mistress', 11),\n",
       " ('parent-in-law', 11),\n",
       " ('nurse', 10),\n",
       " ('father-in-law', 9),\n",
       " ('supporters', 9),\n",
       " ('landlord', 8),\n",
       " ('godfather', 8),\n",
       " ('public official', 8),\n",
       " ('fan', 6),\n",
       " ('slave', 6),\n",
       " ('___situation___', 6),\n",
       " ('apprentice', 6),\n",
       " ('customers', 5),\n",
       " ('argue about relationship', 5),\n",
       " ('lawyer', 5),\n",
       " ('couple', 5),\n",
       " ('supporter', 5),\n",
       " ('family', 4),\n",
       " ('guardian', 4),\n",
       " ('vet', 4),\n",
       " ('interviewee', 4),\n",
       " ('interviewer', 4),\n",
       " ('___attribute___', 3),\n",
       " ('family friend', 3),\n",
       " ('godson', 3),\n",
       " ('brother in-law', 3),\n",
       " ('students', 3),\n",
       " ('classmates', 3),\n",
       " ('agent', 3),\n",
       " ('heard about', 2),\n",
       " ('sponsor', 2),\n",
       " ('close friend', 2),\n",
       " ('employer', 2),\n",
       " ('aide', 2),\n",
       " ('alleged lover', 2),\n",
       " ('killer', 2),\n",
       " ('replacement', 2),\n",
       " ('cusomer', 2),\n",
       " ('worker', 2),\n",
       " ('fiance', 2),\n",
       " ('student', 1),\n",
       " ('psychiatrist', 1),\n",
       " ('supervisor', 1),\n",
       " ('ex-boyfriend', 1),\n",
       " ('host', 1),\n",
       " ('trainer', 1),\n",
       " ('hostage', 1),\n",
       " ('instructor', 1),\n",
       " ('one night stand', 1),\n",
       " ('boyfriend', 1),\n",
       " ('tenant', 1),\n",
       " ('distant cousin', 1),\n",
       " ('ex-girlfriend/ex-boyfriend', 1),\n",
       " ('goddaughter', 1),\n",
       " ('ex-fiance', 1)]"
      ]
     },
     "execution_count": 17,
     "metadata": {},
     "output_type": "execute_result"
    }
   ],
   "source": [
    "(imdb_key, c2, c1, reln, start_scene, end_scene, n_clips)\n",
    "(imdb_key, c1, c2, reln, start_scene, end_scene, n_clips)"
   ]
  },
  {
   "cell_type": "code",
   "execution_count": null,
   "metadata": {},
   "outputs": [],
   "source": [
    "sum([1 for word, v in all_int_pairs if v >= 5])"
   ]
  },
  {
   "cell_type": "code",
   "execution_count": null,
   "metadata": {},
   "outputs": [],
   "source": [
    "all_int_pairs = sorted(collections.Counter(all_int_labels).items(), key=lambda kv:kv[1], reverse=True)\n",
    "\n",
    "for k, v in all_int_pairs:\n",
    "    print(k, v)\n",
    "    "
   ]
  },
  {
   "cell_type": "code",
   "execution_count": null,
   "metadata": {},
   "outputs": [],
   "source": [
    "mg.castlist"
   ]
  }
 ],
 "metadata": {
  "kernelspec": {
   "display_name": "Python 3",
   "language": "python",
   "name": "python3"
  },
  "language_info": {
   "codemirror_mode": {
    "name": "ipython",
    "version": 3
   },
   "file_extension": ".py",
   "mimetype": "text/x-python",
   "name": "python",
   "nbconvert_exporter": "python",
   "pygments_lexer": "ipython3",
   "version": "3.6.6"
  }
 },
 "nbformat": 4,
 "nbformat_minor": 2
}
